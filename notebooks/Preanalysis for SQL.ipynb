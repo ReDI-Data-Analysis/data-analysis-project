{
 "cells": [
  {
   "cell_type": "markdown",
   "metadata": {},
   "source": [
    "# Which csv?"
   ]
  },
  {
   "cell_type": "markdown",
   "metadata": {},
   "source": [
    "## database.csv or fatalencounters??? or both??"
   ]
  },
  {
   "cell_type": "markdown",
   "metadata": {},
   "source": [
    "We are going to try to see if we can use the name as a temporary key to mix the two databases"
   ]
  },
  {
   "cell_type": "code",
   "execution_count": 1,
   "metadata": {
    "collapsed": true
   },
   "outputs": [],
   "source": [
    "# Importing pandas\n",
    "\n",
    "import pandas as pd\n",
    "import datetime as dt"
   ]
  },
  {
   "cell_type": "code",
   "execution_count": 13,
   "metadata": {
    "collapsed": false
   },
   "outputs": [],
   "source": [
    "# Importing the 2 databases\n",
    "\n",
    "wpost = pd.read_csv ('../data/database.csv')\n",
    "fenc = pd.read_csv ('../data/fatalencounters.csv')"
   ]
  },
  {
   "cell_type": "code",
   "execution_count": 20,
   "metadata": {
    "collapsed": false
   },
   "outputs": [
    {
     "name": "stdout",
     "output_type": "stream",
     "text": [
      "<class 'pandas.core.frame.DataFrame'>\n",
      "RangeIndex: 2142 entries, 0 to 2141\n",
      "Data columns (total 14 columns):\n",
      "id                         2142 non-null int64\n",
      "name                       2123 non-null object\n",
      "date                       2142 non-null object\n",
      "manner_of_death            2142 non-null object\n",
      "armed                      2136 non-null object\n",
      "age                        2099 non-null float64\n",
      "gender                     2141 non-null object\n",
      "race                       2039 non-null object\n",
      "city                       2142 non-null object\n",
      "state                      2142 non-null object\n",
      "signs_of_mental_illness    2142 non-null bool\n",
      "threat_level               2142 non-null object\n",
      "flee                       2106 non-null object\n",
      "body_camera                2142 non-null bool\n",
      "dtypes: bool(2), float64(1), int64(1), object(10)\n",
      "memory usage: 205.1+ KB\n"
     ]
    }
   ],
   "source": [
    "# Let´s have a quick look at the 2 databases.\n",
    "# The Washington Post one:\n",
    "\n",
    "wpost.info()"
   ]
  },
  {
   "cell_type": "code",
   "execution_count": 21,
   "metadata": {
    "collapsed": false
   },
   "outputs": [
    {
     "name": "stdout",
     "output_type": "stream",
     "text": [
      "<class 'pandas.core.frame.DataFrame'>\n",
      "RangeIndex: 20792 entries, 0 to 20791\n",
      "Data columns (total 24 columns):\n",
      "Timestamp                                                                          20791 non-null float64\n",
      "Subject's name                                                                     20792 non-null object\n",
      "Subject's age                                                                      20207 non-null object\n",
      "Subject's gender                                                                   20757 non-null object\n",
      "Subject's race                                                                     20791 non-null object\n",
      "URL of image of deceased                                                           7084 non-null object\n",
      "Date of injury resulting in death (month/day/year)                                 20792 non-null object\n",
      "Location of injury (address)                                                       20315 non-null object\n",
      "Location of death (city)                                                           20755 non-null object\n",
      "Location of death (state)                                                          20791 non-null object\n",
      "Location of death (zip code)                                                       20612 non-null object\n",
      "Location of death (county)                                                         20778 non-null object\n",
      "Agency responsible for death                                                       20745 non-null object\n",
      "Cause of death                                                                     20791 non-null object\n",
      "A brief description of the circumstances surrounding the death                     20791 non-null object\n",
      "Official disposition of death (justified or other)                                 20765 non-null object\n",
      "Link to news article or photo of official document                                 20790 non-null object\n",
      "Symptoms of mental illness?                                                        20732 non-null object\n",
      "Unique identifier/submitted by                                                     15081 non-null object\n",
      "State Data Status Prior to Jan. 1, 2013. All states complete after Jan. 1, 2013    20792 non-null object\n",
      "Date&Description                                                                   20757 non-null object\n",
      "20791                                                                              32 non-null float64\n",
      "Unique identifier                                                                  20791 non-null float64\n",
      "Date (Year)                                                                        20792 non-null int64\n",
      "dtypes: float64(3), int64(1), object(20)\n",
      "memory usage: 3.8+ MB\n"
     ]
    }
   ],
   "source": [
    "# And now the Fatal encounters one:\n",
    "\n",
    "fenc.info()"
   ]
  },
  {
   "cell_type": "markdown",
   "metadata": {},
   "source": [
    "At first glance it can appear the second one to be more in everything, more entries, more columns. The first thing is true: we have indeed more entries...but...more columns?\n",
    "\n",
    "Name/ age / gender / race, are common to both databases ... so 4 - 4\n",
    "\n",
    "talking about place: Wpost has city / state\n",
    "                     Fenc has address/city/state/zip/county\n",
    "                                                        ... so 6 - 9  (3 columns of additional info about location in fenc)\n",
    "                                                        \n",
    "We have date, manner (or cause) of death and mental illness in both..9 - 12\n",
    "\n",
    "We have 4 unique columns in wpost:\n",
    "Armed / Threat level / Flee / Body Camera                   ...13 - 12  ( 4 columns exclusive of wpost)\n",
    "\n",
    "We have several unique columns in fenc, but some expendable:\n",
    "URL of image of deceased / A brief description of the circumstances surrounding the death / Link to news article or photo of official document / State Data Status / Date&Description / Date (Year) / 20791 are expendable (we can keep the description for curiosity purposes)\n",
    "We have 2 identifiers: de unique id and the timestamp ( we just need one)\n",
    "We have 2 uniqe columns: agency and official dispotition    ...so 13 - 14  (2 uniques in fenc)\n",
    "\n",
    "\n",
    "We have 5 columns unique in the fenc (3 of them about the location), and 4 unique in the wpost"
   ]
  },
  {
   "cell_type": "code",
   "execution_count": 22,
   "metadata": {
    "collapsed": false
   },
   "outputs": [
    {
     "data": {
      "text/plain": [
       "((2142, 14), (20792, 24))"
      ]
     },
     "execution_count": 22,
     "metadata": {},
     "output_type": "execute_result"
    }
   ],
   "source": [
    "# Comparing the 2 databases entries (just a remembrance)\n",
    "\n",
    "wpost.shape, fenc.shape"
   ]
  },
  {
   "cell_type": "markdown",
   "metadata": {},
   "source": [
    "### Time frame of each database\n",
    "\n",
    "Let´s see, more or less, wich is the difference of entries between our 2 databases considering a similar time frame."
   ]
  },
  {
   "cell_type": "code",
   "execution_count": 23,
   "metadata": {
    "collapsed": false
   },
   "outputs": [
    {
     "data": {
      "text/plain": [
       "(2000, 2100)"
      ]
     },
     "execution_count": 23,
     "metadata": {},
     "output_type": "execute_result"
    }
   ],
   "source": [
    "fenc['Date (Year)'].min(), fenc['Date (Year)'].max()"
   ]
  },
  {
   "cell_type": "code",
   "execution_count": 24,
   "metadata": {
    "collapsed": false
   },
   "outputs": [
    {
     "data": {
      "text/html": [
       "<div>\n",
       "<table border=\"1\" class=\"dataframe\">\n",
       "  <thead>\n",
       "    <tr style=\"text-align: right;\">\n",
       "      <th></th>\n",
       "      <th>Timestamp</th>\n",
       "      <th>Subject's name</th>\n",
       "      <th>Subject's age</th>\n",
       "      <th>Subject's gender</th>\n",
       "      <th>Subject's race</th>\n",
       "      <th>URL of image of deceased</th>\n",
       "      <th>Date of injury resulting in death (month/day/year)</th>\n",
       "      <th>Location of injury (address)</th>\n",
       "      <th>Location of death (city)</th>\n",
       "      <th>Location of death (state)</th>\n",
       "      <th>...</th>\n",
       "      <th>A brief description of the circumstances surrounding the death</th>\n",
       "      <th>Official disposition of death (justified or other)</th>\n",
       "      <th>Link to news article or photo of official document</th>\n",
       "      <th>Symptoms of mental illness?</th>\n",
       "      <th>Unique identifier/submitted by</th>\n",
       "      <th>State Data Status Prior to Jan. 1, 2013. All states complete after Jan. 1, 2013</th>\n",
       "      <th>Date&amp;Description</th>\n",
       "      <th>20791</th>\n",
       "      <th>Unique identifier</th>\n",
       "      <th>Date (Year)</th>\n",
       "    </tr>\n",
       "  </thead>\n",
       "  <tbody>\n",
       "    <tr>\n",
       "      <th>20791</th>\n",
       "      <td>NaN</td>\n",
       "      <td>Items below this row have not been fact-checked.</td>\n",
       "      <td>NaN</td>\n",
       "      <td>NaN</td>\n",
       "      <td>NaN</td>\n",
       "      <td>NaN</td>\n",
       "      <td>December 31, 2100</td>\n",
       "      <td>Items below this line have not been fact-checked.</td>\n",
       "      <td>NaN</td>\n",
       "      <td>NaN</td>\n",
       "      <td>...</td>\n",
       "      <td>NaN</td>\n",
       "      <td>NaN</td>\n",
       "      <td>http://www.fatalencounters.org</td>\n",
       "      <td>NaN</td>\n",
       "      <td>Bill jones</td>\n",
       "      <td>X</td>\n",
       "      <td>12/31/2100:  http://www.fatalencounters.org</td>\n",
       "      <td>20791.0</td>\n",
       "      <td>NaN</td>\n",
       "      <td>2100</td>\n",
       "    </tr>\n",
       "  </tbody>\n",
       "</table>\n",
       "<p>1 rows × 24 columns</p>\n",
       "</div>"
      ],
      "text/plain": [
       "       Timestamp                                    Subject's name  \\\n",
       "20791        NaN  Items below this row have not been fact-checked.   \n",
       "\n",
       "      Subject's age Subject's gender Subject's race URL of image of deceased  \\\n",
       "20791           NaN              NaN            NaN                      NaN   \n",
       "\n",
       "      Date of injury resulting in death (month/day/year)  \\\n",
       "20791                                  December 31, 2100   \n",
       "\n",
       "                            Location of injury (address)  \\\n",
       "20791  Items below this line have not been fact-checked.   \n",
       "\n",
       "      Location of death (city) Location of death (state)     ...      \\\n",
       "20791                      NaN                       NaN     ...       \n",
       "\n",
       "      A brief description of the circumstances surrounding the death  \\\n",
       "20791                                                NaN               \n",
       "\n",
       "      Official disposition of death (justified or other)  \\\n",
       "20791                                                NaN   \n",
       "\n",
       "      Link to news article or photo of official document  \\\n",
       "20791                     http://www.fatalencounters.org   \n",
       "\n",
       "      Symptoms of mental illness? Unique identifier/submitted by  \\\n",
       "20791                         NaN                     Bill jones   \n",
       "\n",
       "      State Data Status Prior to Jan. 1, 2013. All states complete after Jan. 1, 2013  \\\n",
       "20791                                                  X                                \n",
       "\n",
       "                                  Date&Description    20791 Unique identifier  \\\n",
       "20791  12/31/2100:  http://www.fatalencounters.org  20791.0               NaN   \n",
       "\n",
       "      Date (Year)  \n",
       "20791        2100  \n",
       "\n",
       "[1 rows x 24 columns]"
      ]
     },
     "execution_count": 24,
     "metadata": {},
     "output_type": "execute_result"
    }
   ],
   "source": [
    "# Since we have a problem here, let´s see what is going to happen in the 2100\n",
    "\n",
    "\n",
    "fenc[fenc['Date (Year)'] > 2017]"
   ]
  },
  {
   "cell_type": "code",
   "execution_count": 25,
   "metadata": {
    "collapsed": false
   },
   "outputs": [],
   "source": [
    "# So, we have like and ending entrie that has no value to our database, le´s get rid of it\n",
    "\n",
    "fenc = fenc.drop(20791)"
   ]
  },
  {
   "cell_type": "code",
   "execution_count": 26,
   "metadata": {
    "collapsed": false
   },
   "outputs": [
    {
     "data": {
      "text/plain": [
       "(2000, 2017)"
      ]
     },
     "execution_count": 26,
     "metadata": {},
     "output_type": "execute_result"
    }
   ],
   "source": [
    "fenc['Date (Year)'].min(), fenc['Date (Year)'].max()"
   ]
  },
  {
   "cell_type": "markdown",
   "metadata": {},
   "source": [
    "So our fatal encounters database goes from 2000 to 2017. We have solved the error of the 2100 entry dropping it."
   ]
  },
  {
   "cell_type": "code",
   "execution_count": 27,
   "metadata": {
    "collapsed": false
   },
   "outputs": [
    {
     "data": {
      "text/plain": [
       "('2015-01-02', '2017-02-28', 2142)"
      ]
     },
     "execution_count": 27,
     "metadata": {},
     "output_type": "execute_result"
    }
   ],
   "source": [
    "# Let´s see the time frame of wpost, and the number of entries\n",
    "\n",
    "wpost.date.min(), wpost.date.max(), wpost.id.count()"
   ]
  },
  {
   "cell_type": "code",
   "execution_count": 28,
   "metadata": {
    "collapsed": false
   },
   "outputs": [
    {
     "data": {
      "text/plain": [
       "(3919, 24)"
      ]
     },
     "execution_count": 28,
     "metadata": {},
     "output_type": "execute_result"
    }
   ],
   "source": [
    "# Approx, in the same time frame, in the fenc:\n",
    "\n",
    "fenc[fenc['Date (Year)'] >= 2015].shape"
   ]
  },
  {
   "cell_type": "markdown",
   "metadata": {},
   "source": [
    "We can see here that approximately, the fatal encounters db is doble the size of the washington post one. Let's try to be more accurate.\n",
    "\n",
    "Since our column about the date of the killing in the fenc database is a string, and not a date, we cannot use it. We have to transform the data. In order to do that e are going to use the datetime library. We are going to use it to give format of a date to this column. We are going to create a new column where we are going to have this date data in a proper way.\n",
    "\n"
   ]
  },
  {
   "cell_type": "code",
   "execution_count": 30,
   "metadata": {
    "collapsed": false
   },
   "outputs": [
    {
     "name": "stderr",
     "output_type": "stream",
     "text": [
      "C:\\Users\\ReDi\\Anaconda3\\lib\\site-packages\\pandas\\core\\indexing.py:141: SettingWithCopyWarning: \n",
      "A value is trying to be set on a copy of a slice from a DataFrame\n",
      "\n",
      "See the caveats in the documentation: http://pandas.pydata.org/pandas-docs/stable/indexing.html#indexing-view-versus-copy\n",
      "  self._setitem_with_indexer(indexer, value)\n"
     ]
    }
   ],
   "source": [
    "# We iterate through every row, using iterrows. First we create our new column, with a string type\n",
    "\n",
    "for i, row in fenc.iterrows():\n",
    "\n",
    "    # we define n, as our string to be transformed for every entry\n",
    "    n = row['Date of injury resulting in death (month/day/year)']\n",
    "\n",
    "    # and here we define our new column, date, that is going to be n transformed into date. For doing that, we have to\n",
    "    # describe which is the original format. In our case the date is written on a string like 'January 23, 2005'.\n",
    "    # If we go to the documentation of the datetime library, we see that %B stands for the complete name of the month,\n",
    "    # %d stands for the day number, then a coma, and the the year in 4 digits format.\n",
    "    # The date in the end is to have just the date, without hours minutes and seconds\n",
    "    fenc['date'].iloc[i] = dt.datetime.strptime(n,'%B %d, %Y')"
   ]
  },
  {
   "cell_type": "code",
   "execution_count": 33,
   "metadata": {
    "collapsed": false
   },
   "outputs": [
    {
     "data": {
      "text/plain": [
       "(3420, 25)"
      ]
     },
     "execution_count": 33,
     "metadata": {},
     "output_type": "execute_result"
    }
   ],
   "source": [
    "fenc[(fenc['date'] >= '2015-01-02') & (fenc['date'] <= '2017-02-28')].shape"
   ]
  },
  {
   "cell_type": "markdown",
   "metadata": {},
   "source": [
    "So in the end, for the same time frame the washington post dataframe is 2142 entries, the fatal encounters one is 3420. Can we try to merge them? Since the second one is 1300 entries bigger, we can asume that every name in the wpost is indeed in the fatal encounters one...but we can have typos, names that don´t match, missing names...let´s investigate.\n"
   ]
  },
  {
   "cell_type": "markdown",
   "metadata": {},
   "source": [
    "## Merging the csv's"
   ]
  },
  {
   "cell_type": "markdown",
   "metadata": {},
   "source": [
    "Just for future uses, and because my computer is very slow, let's save this as a new csv"
   ]
  },
  {
   "cell_type": "code",
   "execution_count": 38,
   "metadata": {
    "collapsed": true
   },
   "outputs": [],
   "source": [
    "fenc.to_csv('fenc.csv', index = False, encoding='utf-8')"
   ]
  },
  {
   "cell_type": "code",
   "execution_count": 14,
   "metadata": {
    "collapsed": false
   },
   "outputs": [],
   "source": [
    "import pandas as pd\n",
    "import datetime as dt\n",
    "\n",
    "wpost = pd.read_csv ('../data/database.csv')\n",
    "fenc = pd.read_csv ('../data/fenc.csv')"
   ]
  },
  {
   "cell_type": "markdown",
   "metadata": {
    "collapsed": false
   },
   "source": [
    "Just to avoid problems I copy everything that has to be charged again in here, to keep on with the analysis. I have uuploaded the new database, with the date added (fenc.csv).\n",
    "The first thing to do will be be stablish the fenc database in the time frame of the washington post one. So we create the timefenc"
   ]
  },
  {
   "cell_type": "code",
   "execution_count": 15,
   "metadata": {
    "collapsed": true
   },
   "outputs": [],
   "source": [
    "timefenc = fenc[(fenc['date'] >= '2015-01-02') & (fenc['date'] <= '2017-02-28')]"
   ]
  },
  {
   "cell_type": "markdown",
   "metadata": {},
   "source": [
    "As we said, it's probable that all the names of the wpost are included in the fenc, but, as we are going to use the name as a key, we need the wpost to be as complete as possible. Let's recall the sql analysis for the names from a few days ago. The brief result in it is as follows:\n",
    "\n",
    "* Jamake Cason Thomas, duplicated. The entry is exactly the same. Delete one\n",
    "* Daquan Antonio Westbrook, duplicated. Googling says the correct one is id 1129. We can get rid of id 2158.\n",
    "* We have 19 null names\n",
    "    * 1074 John Doe\n",
    "    * 1570 John Doe...age 45, latin / correct shot for shot and tased\n",
    "    * 1581 Tonnia Reshelle Jarvis, 48, white\n",
    "    * 1584 Kevin T. Marshall, 30, white\n",
    "    * 1615  John Doe...Latin\n",
    "    * 1685 John Doe\n",
    "    * 1848 John Doe...Latin, 35/40 age.../armed with rocks? previously tased?\n",
    "    * 2037 Andrew Depeiza, 30 , Black, unarmed, not fleeing\n",
    "    * 2110 John Doe, 60s\n",
    "    * 2141 Walter Ricardo Pimentel, latin...correct 19th december 2016?\n",
    "    * 2154 Luis Ambrosio-Aguilar, 30, latin\n",
    "    * 2168 Jose Sanchez, 30 latin\n",
    "    * 2164 Orande Kandie Hayes\n",
    "    * 2182 Daniel Ralph Daily, 34 , white\n",
    "    * 2232 David Darnell Stroughter, 50 , Black, Westchester (hood of LA?)\n",
    "    * 2278 Solomon Picart, 37, Black\n",
    "    * 2319 John Doe\n",
    "    * 2328 John Doe\n",
    "    * 2384 William Dwayne Darby, 39, White"
   ]
  },
  {
   "cell_type": "code",
   "execution_count": 16,
   "metadata": {
    "collapsed": false
   },
   "outputs": [
    {
     "data": {
      "text/html": [
       "<div>\n",
       "<table border=\"1\" class=\"dataframe\">\n",
       "  <thead>\n",
       "    <tr style=\"text-align: right;\">\n",
       "      <th></th>\n",
       "      <th>id</th>\n",
       "      <th>name</th>\n",
       "      <th>date</th>\n",
       "      <th>manner_of_death</th>\n",
       "      <th>armed</th>\n",
       "      <th>age</th>\n",
       "      <th>gender</th>\n",
       "      <th>race</th>\n",
       "      <th>city</th>\n",
       "      <th>state</th>\n",
       "      <th>signs_of_mental_illness</th>\n",
       "      <th>threat_level</th>\n",
       "      <th>flee</th>\n",
       "      <th>body_camera</th>\n",
       "    </tr>\n",
       "  </thead>\n",
       "  <tbody>\n",
       "    <tr>\n",
       "      <th>2049</th>\n",
       "      <td>2304</td>\n",
       "      <td>Jamake Cason Thomas</td>\n",
       "      <td>2017-02-03</td>\n",
       "      <td>shot</td>\n",
       "      <td>gun</td>\n",
       "      <td>22.0</td>\n",
       "      <td>M</td>\n",
       "      <td>B</td>\n",
       "      <td>Rowland</td>\n",
       "      <td>NC</td>\n",
       "      <td>False</td>\n",
       "      <td>attack</td>\n",
       "      <td>Car</td>\n",
       "      <td>False</td>\n",
       "    </tr>\n",
       "    <tr>\n",
       "      <th>2053</th>\n",
       "      <td>2294</td>\n",
       "      <td>Jamake Cason Thomas</td>\n",
       "      <td>2017-02-03</td>\n",
       "      <td>shot</td>\n",
       "      <td>gun</td>\n",
       "      <td>22.0</td>\n",
       "      <td>M</td>\n",
       "      <td>B</td>\n",
       "      <td>Rowland</td>\n",
       "      <td>NC</td>\n",
       "      <td>False</td>\n",
       "      <td>attack</td>\n",
       "      <td>Car</td>\n",
       "      <td>False</td>\n",
       "    </tr>\n",
       "  </tbody>\n",
       "</table>\n",
       "</div>"
      ],
      "text/plain": [
       "        id                 name        date manner_of_death armed   age  \\\n",
       "2049  2304  Jamake Cason Thomas  2017-02-03            shot   gun  22.0   \n",
       "2053  2294  Jamake Cason Thomas  2017-02-03            shot   gun  22.0   \n",
       "\n",
       "     gender race     city state signs_of_mental_illness threat_level flee  \\\n",
       "2049      M    B  Rowland    NC                   False       attack  Car   \n",
       "2053      M    B  Rowland    NC                   False       attack  Car   \n",
       "\n",
       "     body_camera  \n",
       "2049       False  \n",
       "2053       False  "
      ]
     },
     "execution_count": 16,
     "metadata": {},
     "output_type": "execute_result"
    }
   ],
   "source": [
    "wpost[wpost['name'] == 'Jamake Cason Thomas']"
   ]
  },
  {
   "cell_type": "code",
   "execution_count": 19,
   "metadata": {
    "collapsed": false
   },
   "outputs": [],
   "source": [
    "# First issue solved, easy\n",
    "\n",
    "wpost = wpost.drop(2053)"
   ]
  },
  {
   "cell_type": "code",
   "execution_count": 21,
   "metadata": {
    "collapsed": false
   },
   "outputs": [
    {
     "data": {
      "text/html": [
       "<div>\n",
       "<table border=\"1\" class=\"dataframe\">\n",
       "  <thead>\n",
       "    <tr style=\"text-align: right;\">\n",
       "      <th></th>\n",
       "      <th>id</th>\n",
       "      <th>name</th>\n",
       "      <th>date</th>\n",
       "      <th>manner_of_death</th>\n",
       "      <th>armed</th>\n",
       "      <th>age</th>\n",
       "      <th>gender</th>\n",
       "      <th>race</th>\n",
       "      <th>city</th>\n",
       "      <th>state</th>\n",
       "      <th>signs_of_mental_illness</th>\n",
       "      <th>threat_level</th>\n",
       "      <th>flee</th>\n",
       "      <th>body_camera</th>\n",
       "    </tr>\n",
       "  </thead>\n",
       "  <tbody>\n",
       "    <tr>\n",
       "      <th>976</th>\n",
       "      <td>1129</td>\n",
       "      <td>Daquan Antonio Westbrook</td>\n",
       "      <td>2015-12-24</td>\n",
       "      <td>shot</td>\n",
       "      <td>gun</td>\n",
       "      <td>18.0</td>\n",
       "      <td>M</td>\n",
       "      <td>B</td>\n",
       "      <td>Charlotte</td>\n",
       "      <td>NC</td>\n",
       "      <td>False</td>\n",
       "      <td>attack</td>\n",
       "      <td>Not fleeing</td>\n",
       "      <td>False</td>\n",
       "    </tr>\n",
       "    <tr>\n",
       "      <th>1934</th>\n",
       "      <td>2158</td>\n",
       "      <td>Daquan Antonio Westbrook</td>\n",
       "      <td>2016-12-24</td>\n",
       "      <td>shot</td>\n",
       "      <td>gun</td>\n",
       "      <td>18.0</td>\n",
       "      <td>M</td>\n",
       "      <td>B</td>\n",
       "      <td>Charlotte</td>\n",
       "      <td>NC</td>\n",
       "      <td>False</td>\n",
       "      <td>undetermined</td>\n",
       "      <td>Not fleeing</td>\n",
       "      <td>False</td>\n",
       "    </tr>\n",
       "  </tbody>\n",
       "</table>\n",
       "</div>"
      ],
      "text/plain": [
       "        id                      name        date manner_of_death armed   age  \\\n",
       "976   1129  Daquan Antonio Westbrook  2015-12-24            shot   gun  18.0   \n",
       "1934  2158  Daquan Antonio Westbrook  2016-12-24            shot   gun  18.0   \n",
       "\n",
       "     gender race       city state signs_of_mental_illness  threat_level  \\\n",
       "976       M    B  Charlotte    NC                   False        attack   \n",
       "1934      M    B  Charlotte    NC                   False  undetermined   \n",
       "\n",
       "             flee body_camera  \n",
       "976   Not fleeing       False  \n",
       "1934  Not fleeing       False  "
      ]
     },
     "execution_count": 21,
     "metadata": {},
     "output_type": "execute_result"
    }
   ],
   "source": [
    "wpost[wpost['name'] == 'Daquan Antonio Westbrook']"
   ]
  },
  {
   "cell_type": "code",
   "execution_count": 22,
   "metadata": {
    "collapsed": true
   },
   "outputs": [],
   "source": [
    "# If we listen to our little list, we have to drop the second one. So:\n",
    "\n",
    "wpost = wpost.drop(1934)"
   ]
  },
  {
   "cell_type": "markdown",
   "metadata": {},
   "source": [
    "For the moment, we are going to leave the unknown people, or John Does, as they are right now. Let's change only the things we know."
   ]
  },
  {
   "cell_type": "code",
   "execution_count": 47,
   "metadata": {
    "collapsed": false
   },
   "outputs": [
    {
     "name": "stderr",
     "output_type": "stream",
     "text": [
      "C:\\Users\\Nanirulu\\Anaconda3\\lib\\site-packages\\pandas\\core\\indexing.py:141: SettingWithCopyWarning: \n",
      "A value is trying to be set on a copy of a slice from a DataFrame\n",
      "\n",
      "See the caveats in the documentation: http://pandas.pydata.org/pandas-docs/stable/indexing.html#indexing-view-versus-copy\n",
      "  self._setitem_with_indexer(indexer, value)\n"
     ]
    },
    {
     "data": {
      "text/html": [
       "<div>\n",
       "<table border=\"1\" class=\"dataframe\">\n",
       "  <thead>\n",
       "    <tr style=\"text-align: right;\">\n",
       "      <th></th>\n",
       "      <th>id</th>\n",
       "      <th>name</th>\n",
       "      <th>date</th>\n",
       "      <th>manner_of_death</th>\n",
       "      <th>armed</th>\n",
       "      <th>age</th>\n",
       "      <th>gender</th>\n",
       "      <th>race</th>\n",
       "      <th>city</th>\n",
       "      <th>state</th>\n",
       "      <th>signs_of_mental_illness</th>\n",
       "      <th>threat_level</th>\n",
       "      <th>flee</th>\n",
       "      <th>body_camera</th>\n",
       "    </tr>\n",
       "  </thead>\n",
       "  <tbody>\n",
       "    <tr>\n",
       "      <th>1382</th>\n",
       "      <td>1570</td>\n",
       "      <td>NaN</td>\n",
       "      <td>2016-05-26</td>\n",
       "      <td>shot</td>\n",
       "      <td>gun</td>\n",
       "      <td>45.0</td>\n",
       "      <td>M</td>\n",
       "      <td>NaN</td>\n",
       "      <td>San Antonio</td>\n",
       "      <td>TX</td>\n",
       "      <td>False</td>\n",
       "      <td>other</td>\n",
       "      <td>Not fleeing</td>\n",
       "      <td>False</td>\n",
       "    </tr>\n",
       "  </tbody>\n",
       "</table>\n",
       "</div>"
      ],
      "text/plain": [
       "        id name        date manner_of_death armed   age gender race  \\\n",
       "1382  1570  NaN  2016-05-26            shot   gun  45.0      M  NaN   \n",
       "\n",
       "             city state signs_of_mental_illness threat_level         flee  \\\n",
       "1382  San Antonio    TX                   False        other  Not fleeing   \n",
       "\n",
       "     body_camera  \n",
       "1382       False  "
      ]
     },
     "execution_count": 47,
     "metadata": {},
     "output_type": "execute_result"
    }
   ],
   "source": [
    "# (928) 1074 John Doe\n",
    "        # nothing to do\n",
    "# (1382) 1570 John Doe...age 45, latin (correct shot for shot and tased, in hold)\n",
    "wpost['age'].iloc[1382] = 45\n",
    "wpost[wpost['id'] == 1570]\n",
    "# (1385) 1581 Tonnia Reshelle Jarvis, 48, white\n",
    "# (1397) 1584 Kevin T. Marshall, 30, white\n",
    "# (1419) 1615  John Doe...Latin\n",
    "# (1500) 1685 John Doe\n",
    "# (1646) 1848 John Doe...Latin, 35/40 age.../armed with rocks? previously tased?\n",
    "# (1825) 2037 Andrew Depeiza, 30 , Black, unarmed, not fleeing\n",
    "# (1894) 2110 John Doe, 60s\n",
    "# (1921) 2141 Walter Ricardo Pimentel, latin...correct 19th december 2016?\n",
    "# (1927) 2154 Luis Ambrosio-Aguilar, 30, latin\n",
    "# (1933) 2168 Jose Sanchez, 30 latin\n",
    "# (1936) 2164 Orande Kandie Hayes\n",
    "# (1949) 2182 Daniel Ralph Daily, 34 , white\n",
    "# (2003) 2232 David Darnell Stroughter, 50 , Black, Westchester (hood of LA?)\n",
    "# (2044) 2278 Solomon Picart, 37, Black\n",
    "# (2077) 2319 John Doe\n",
    "# (2090) 2328 John Doe\n",
    "# (2133) 2384 William Dwayne Darby, 39, White"
   ]
  },
  {
   "cell_type": "code",
   "execution_count": null,
   "metadata": {
    "collapsed": true
   },
   "outputs": [],
   "source": []
  }
 ],
 "metadata": {
  "kernelspec": {
   "display_name": "Python 3",
   "language": "python",
   "name": "python3"
  }
 },
 "nbformat": 4,
 "nbformat_minor": 2
}
