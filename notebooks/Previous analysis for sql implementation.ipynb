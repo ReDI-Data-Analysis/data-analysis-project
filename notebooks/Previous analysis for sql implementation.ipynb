{
 "cells": [
  {
   "cell_type": "markdown",
   "metadata": {},
   "source": [
    "# Which csv?"
   ]
  },
  {
   "cell_type": "markdown",
   "metadata": {},
   "source": [
    "## database.csv or fatalencounters??? or both??"
   ]
  },
  {
   "cell_type": "markdown",
   "metadata": {},
   "source": [
    "We are going to try to see if we can use the name as a temporary key to mix the two databases"
   ]
  },
  {
   "cell_type": "code",
   "execution_count": 14,
   "metadata": {
    "collapsed": true
   },
   "outputs": [],
   "source": [
    "# Importing pandas\n",
    "\n",
    "import pandas as pd\n",
    "import datetime as dt"
   ]
  },
  {
   "cell_type": "code",
   "execution_count": 7,
   "metadata": {
    "collapsed": false
   },
   "outputs": [],
   "source": [
    "# Importing the 2 databases\n",
    "\n",
    "wpost = pd.read_csv ('/Users/ReDi/Documents/GitHub/data-analysis-project/data/database.csv')\n",
    "fenc = pd.read_csv ('/Users/ReDi/Documents/GitHub/data-analysis-project/data/fatalencounters.csv')"
   ]
  },
  {
   "cell_type": "code",
   "execution_count": 8,
   "metadata": {
    "collapsed": false
   },
   "outputs": [
    {
     "name": "stdout",
     "output_type": "stream",
     "text": [
      "<class 'pandas.core.frame.DataFrame'>\n",
      "RangeIndex: 2142 entries, 0 to 2141\n",
      "Data columns (total 14 columns):\n",
      "id                         2142 non-null int64\n",
      "name                       2123 non-null object\n",
      "date                       2142 non-null object\n",
      "manner_of_death            2142 non-null object\n",
      "armed                      2136 non-null object\n",
      "age                        2099 non-null float64\n",
      "gender                     2141 non-null object\n",
      "race                       2039 non-null object\n",
      "city                       2142 non-null object\n",
      "state                      2142 non-null object\n",
      "signs_of_mental_illness    2142 non-null bool\n",
      "threat_level               2142 non-null object\n",
      "flee                       2106 non-null object\n",
      "body_camera                2142 non-null bool\n",
      "dtypes: bool(2), float64(1), int64(1), object(10)\n",
      "memory usage: 205.1+ KB\n"
     ]
    }
   ],
   "source": [
    "wpost.info()"
   ]
  },
  {
   "cell_type": "code",
   "execution_count": 9,
   "metadata": {
    "collapsed": false
   },
   "outputs": [
    {
     "name": "stdout",
     "output_type": "stream",
     "text": [
      "<class 'pandas.core.frame.DataFrame'>\n",
      "RangeIndex: 20792 entries, 0 to 20791\n",
      "Data columns (total 24 columns):\n",
      "Timestamp                                                                          20791 non-null float64\n",
      "Subject's name                                                                     20792 non-null object\n",
      "Subject's age                                                                      20207 non-null object\n",
      "Subject's gender                                                                   20757 non-null object\n",
      "Subject's race                                                                     20791 non-null object\n",
      "URL of image of deceased                                                           7084 non-null object\n",
      "Date of injury resulting in death (month/day/year)                                 20792 non-null object\n",
      "Location of injury (address)                                                       20315 non-null object\n",
      "Location of death (city)                                                           20755 non-null object\n",
      "Location of death (state)                                                          20791 non-null object\n",
      "Location of death (zip code)                                                       20612 non-null object\n",
      "Location of death (county)                                                         20778 non-null object\n",
      "Agency responsible for death                                                       20745 non-null object\n",
      "Cause of death                                                                     20791 non-null object\n",
      "A brief description of the circumstances surrounding the death                     20791 non-null object\n",
      "Official disposition of death (justified or other)                                 20765 non-null object\n",
      "Link to news article or photo of official document                                 20790 non-null object\n",
      "Symptoms of mental illness?                                                        20732 non-null object\n",
      "Unique identifier/submitted by                                                     15081 non-null object\n",
      "State Data Status Prior to Jan. 1, 2013. All states complete after Jan. 1, 2013    20792 non-null object\n",
      "Date&Description                                                                   20757 non-null object\n",
      "20791                                                                              32 non-null float64\n",
      "Unique identifier                                                                  20791 non-null float64\n",
      "Date (Year)                                                                        20792 non-null int64\n",
      "dtypes: float64(3), int64(1), object(20)\n",
      "memory usage: 3.8+ MB\n"
     ]
    }
   ],
   "source": [
    "fenc.info()"
   ]
  },
  {
   "cell_type": "code",
   "execution_count": 10,
   "metadata": {
    "collapsed": false
   },
   "outputs": [
    {
     "data": {
      "text/html": [
       "<div>\n",
       "<table border=\"1\" class=\"dataframe\">\n",
       "  <thead>\n",
       "    <tr style=\"text-align: right;\">\n",
       "      <th></th>\n",
       "      <th>id</th>\n",
       "      <th>age</th>\n",
       "    </tr>\n",
       "  </thead>\n",
       "  <tbody>\n",
       "    <tr>\n",
       "      <th>count</th>\n",
       "      <td>2142.00000</td>\n",
       "      <td>2099.000000</td>\n",
       "    </tr>\n",
       "    <tr>\n",
       "      <th>mean</th>\n",
       "      <td>1232.21662</td>\n",
       "      <td>36.484516</td>\n",
       "    </tr>\n",
       "    <tr>\n",
       "      <th>std</th>\n",
       "      <td>670.62817</td>\n",
       "      <td>12.874000</td>\n",
       "    </tr>\n",
       "    <tr>\n",
       "      <th>min</th>\n",
       "      <td>3.00000</td>\n",
       "      <td>6.000000</td>\n",
       "    </tr>\n",
       "    <tr>\n",
       "      <th>25%</th>\n",
       "      <td>664.50000</td>\n",
       "      <td>26.000000</td>\n",
       "    </tr>\n",
       "    <tr>\n",
       "      <th>50%</th>\n",
       "      <td>1231.50000</td>\n",
       "      <td>34.000000</td>\n",
       "    </tr>\n",
       "    <tr>\n",
       "      <th>75%</th>\n",
       "      <td>1811.75000</td>\n",
       "      <td>45.000000</td>\n",
       "    </tr>\n",
       "    <tr>\n",
       "      <th>max</th>\n",
       "      <td>2394.00000</td>\n",
       "      <td>86.000000</td>\n",
       "    </tr>\n",
       "  </tbody>\n",
       "</table>\n",
       "</div>"
      ],
      "text/plain": [
       "               id          age\n",
       "count  2142.00000  2099.000000\n",
       "mean   1232.21662    36.484516\n",
       "std     670.62817    12.874000\n",
       "min       3.00000     6.000000\n",
       "25%     664.50000    26.000000\n",
       "50%    1231.50000    34.000000\n",
       "75%    1811.75000    45.000000\n",
       "max    2394.00000    86.000000"
      ]
     },
     "execution_count": 10,
     "metadata": {},
     "output_type": "execute_result"
    }
   ],
   "source": [
    "wpost.describe()"
   ]
  },
  {
   "cell_type": "code",
   "execution_count": 12,
   "metadata": {
    "collapsed": false
   },
   "outputs": [
    {
     "data": {
      "text/html": [
       "<div>\n",
       "<table border=\"1\" class=\"dataframe\">\n",
       "  <thead>\n",
       "    <tr style=\"text-align: right;\">\n",
       "      <th></th>\n",
       "      <th>name</th>\n",
       "      <th>date</th>\n",
       "      <th>manner_of_death</th>\n",
       "      <th>armed</th>\n",
       "      <th>gender</th>\n",
       "      <th>race</th>\n",
       "      <th>city</th>\n",
       "      <th>state</th>\n",
       "      <th>threat_level</th>\n",
       "      <th>flee</th>\n",
       "    </tr>\n",
       "  </thead>\n",
       "  <tbody>\n",
       "    <tr>\n",
       "      <th>count</th>\n",
       "      <td>2123</td>\n",
       "      <td>2142</td>\n",
       "      <td>2142</td>\n",
       "      <td>2136</td>\n",
       "      <td>2141</td>\n",
       "      <td>2039</td>\n",
       "      <td>2142</td>\n",
       "      <td>2142</td>\n",
       "      <td>2142</td>\n",
       "      <td>2106</td>\n",
       "    </tr>\n",
       "    <tr>\n",
       "      <th>unique</th>\n",
       "      <td>2118</td>\n",
       "      <td>739</td>\n",
       "      <td>2</td>\n",
       "      <td>64</td>\n",
       "      <td>2</td>\n",
       "      <td>6</td>\n",
       "      <td>1247</td>\n",
       "      <td>51</td>\n",
       "      <td>3</td>\n",
       "      <td>4</td>\n",
       "    </tr>\n",
       "    <tr>\n",
       "      <th>top</th>\n",
       "      <td>Daquan Antonio Westbrook</td>\n",
       "      <td>2015-12-14</td>\n",
       "      <td>shot</td>\n",
       "      <td>gun</td>\n",
       "      <td>M</td>\n",
       "      <td>W</td>\n",
       "      <td>Los Angeles</td>\n",
       "      <td>CA</td>\n",
       "      <td>attack</td>\n",
       "      <td>Not fleeing</td>\n",
       "    </tr>\n",
       "    <tr>\n",
       "      <th>freq</th>\n",
       "      <td>2</td>\n",
       "      <td>8</td>\n",
       "      <td>1992</td>\n",
       "      <td>1173</td>\n",
       "      <td>2052</td>\n",
       "      <td>1041</td>\n",
       "      <td>31</td>\n",
       "      <td>355</td>\n",
       "      <td>1381</td>\n",
       "      <td>1453</td>\n",
       "    </tr>\n",
       "  </tbody>\n",
       "</table>\n",
       "</div>"
      ],
      "text/plain": [
       "                            name        date manner_of_death armed gender  \\\n",
       "count                       2123        2142            2142  2136   2141   \n",
       "unique                      2118         739               2    64      2   \n",
       "top     Daquan Antonio Westbrook  2015-12-14            shot   gun      M   \n",
       "freq                           2           8            1992  1173   2052   \n",
       "\n",
       "        race         city state threat_level         flee  \n",
       "count   2039         2142  2142         2142         2106  \n",
       "unique     6         1247    51            3            4  \n",
       "top        W  Los Angeles    CA       attack  Not fleeing  \n",
       "freq    1041           31   355         1381         1453  "
      ]
     },
     "execution_count": 12,
     "metadata": {},
     "output_type": "execute_result"
    }
   ],
   "source": [
    "wpost.describe(include = ['O'])"
   ]
  },
  {
   "cell_type": "code",
   "execution_count": 13,
   "metadata": {
    "collapsed": false
   },
   "outputs": [
    {
     "data": {
      "text/html": [
       "<div>\n",
       "<table border=\"1\" class=\"dataframe\">\n",
       "  <thead>\n",
       "    <tr style=\"text-align: right;\">\n",
       "      <th></th>\n",
       "      <th>Timestamp</th>\n",
       "      <th>20791</th>\n",
       "      <th>Unique identifier</th>\n",
       "      <th>Date (Year)</th>\n",
       "    </tr>\n",
       "  </thead>\n",
       "  <tbody>\n",
       "    <tr>\n",
       "      <th>count</th>\n",
       "      <td>20791.000000</td>\n",
       "      <td>32.000000</td>\n",
       "      <td>20791.000000</td>\n",
       "      <td>20792.000000</td>\n",
       "    </tr>\n",
       "    <tr>\n",
       "      <th>mean</th>\n",
       "      <td>10396.000000</td>\n",
       "      <td>19435.468750</td>\n",
       "      <td>10396.000000</td>\n",
       "      <td>2009.507984</td>\n",
       "    </tr>\n",
       "    <tr>\n",
       "      <th>std</th>\n",
       "      <td>6001.989059</td>\n",
       "      <td>248.357181</td>\n",
       "      <td>6001.989059</td>\n",
       "      <td>4.976123</td>\n",
       "    </tr>\n",
       "    <tr>\n",
       "      <th>min</th>\n",
       "      <td>1.000000</td>\n",
       "      <td>19279.000000</td>\n",
       "      <td>1.000000</td>\n",
       "      <td>2000.000000</td>\n",
       "    </tr>\n",
       "    <tr>\n",
       "      <th>25%</th>\n",
       "      <td>5198.500000</td>\n",
       "      <td>19387.750000</td>\n",
       "      <td>5198.500000</td>\n",
       "      <td>2005.000000</td>\n",
       "    </tr>\n",
       "    <tr>\n",
       "      <th>50%</th>\n",
       "      <td>10396.000000</td>\n",
       "      <td>19395.500000</td>\n",
       "      <td>10396.000000</td>\n",
       "      <td>2010.000000</td>\n",
       "    </tr>\n",
       "    <tr>\n",
       "      <th>75%</th>\n",
       "      <td>15593.500000</td>\n",
       "      <td>19403.250000</td>\n",
       "      <td>15593.500000</td>\n",
       "      <td>2014.000000</td>\n",
       "    </tr>\n",
       "    <tr>\n",
       "      <th>max</th>\n",
       "      <td>20791.000000</td>\n",
       "      <td>20791.000000</td>\n",
       "      <td>20791.000000</td>\n",
       "      <td>2100.000000</td>\n",
       "    </tr>\n",
       "  </tbody>\n",
       "</table>\n",
       "</div>"
      ],
      "text/plain": [
       "          Timestamp         20791  Unique identifier   Date (Year)\n",
       "count  20791.000000     32.000000       20791.000000  20792.000000\n",
       "mean   10396.000000  19435.468750       10396.000000   2009.507984\n",
       "std     6001.989059    248.357181        6001.989059      4.976123\n",
       "min        1.000000  19279.000000           1.000000   2000.000000\n",
       "25%     5198.500000  19387.750000        5198.500000   2005.000000\n",
       "50%    10396.000000  19395.500000       10396.000000   2010.000000\n",
       "75%    15593.500000  19403.250000       15593.500000   2014.000000\n",
       "max    20791.000000  20791.000000       20791.000000   2100.000000"
      ]
     },
     "execution_count": 13,
     "metadata": {},
     "output_type": "execute_result"
    }
   ],
   "source": [
    "fenc.describe()"
   ]
  },
  {
   "cell_type": "code",
   "execution_count": 15,
   "metadata": {
    "collapsed": false
   },
   "outputs": [
    {
     "data": {
      "text/html": [
       "<div>\n",
       "<table border=\"1\" class=\"dataframe\">\n",
       "  <thead>\n",
       "    <tr style=\"text-align: right;\">\n",
       "      <th></th>\n",
       "      <th>Subject's name</th>\n",
       "      <th>Subject's age</th>\n",
       "      <th>Subject's gender</th>\n",
       "      <th>Subject's race</th>\n",
       "      <th>URL of image of deceased</th>\n",
       "      <th>Date of injury resulting in death (month/day/year)</th>\n",
       "      <th>Location of injury (address)</th>\n",
       "      <th>Location of death (city)</th>\n",
       "      <th>Location of death (state)</th>\n",
       "      <th>Location of death (zip code)</th>\n",
       "      <th>Location of death (county)</th>\n",
       "      <th>Agency responsible for death</th>\n",
       "      <th>Cause of death</th>\n",
       "      <th>A brief description of the circumstances surrounding the death</th>\n",
       "      <th>Official disposition of death (justified or other)</th>\n",
       "      <th>Link to news article or photo of official document</th>\n",
       "      <th>Symptoms of mental illness?</th>\n",
       "      <th>Unique identifier/submitted by</th>\n",
       "      <th>State Data Status Prior to Jan. 1, 2013. All states complete after Jan. 1, 2013</th>\n",
       "      <th>Date&amp;Description</th>\n",
       "    </tr>\n",
       "  </thead>\n",
       "  <tbody>\n",
       "    <tr>\n",
       "      <th>count</th>\n",
       "      <td>20792</td>\n",
       "      <td>20207</td>\n",
       "      <td>20757</td>\n",
       "      <td>20791</td>\n",
       "      <td>7084</td>\n",
       "      <td>20792</td>\n",
       "      <td>20315</td>\n",
       "      <td>20755</td>\n",
       "      <td>20791</td>\n",
       "      <td>20612</td>\n",
       "      <td>20778</td>\n",
       "      <td>20745</td>\n",
       "      <td>20791</td>\n",
       "      <td>20791</td>\n",
       "      <td>20765</td>\n",
       "      <td>20790</td>\n",
       "      <td>20732</td>\n",
       "      <td>15081</td>\n",
       "      <td>20792</td>\n",
       "      <td>20757</td>\n",
       "    </tr>\n",
       "    <tr>\n",
       "      <th>unique</th>\n",
       "      <td>20041</td>\n",
       "      <td>122</td>\n",
       "      <td>3</td>\n",
       "      <td>8</td>\n",
       "      <td>7008</td>\n",
       "      <td>5974</td>\n",
       "      <td>19121</td>\n",
       "      <td>4891</td>\n",
       "      <td>51</td>\n",
       "      <td>8590</td>\n",
       "      <td>1363</td>\n",
       "      <td>5829</td>\n",
       "      <td>15</td>\n",
       "      <td>19830</td>\n",
       "      <td>54</td>\n",
       "      <td>19293</td>\n",
       "      <td>4</td>\n",
       "      <td>827</td>\n",
       "      <td>3</td>\n",
       "      <td>19868</td>\n",
       "    </tr>\n",
       "    <tr>\n",
       "      <th>top</th>\n",
       "      <td>Name withheld by police</td>\n",
       "      <td>22</td>\n",
       "      <td>Male</td>\n",
       "      <td>Race unspecified</td>\n",
       "      <td>http://pursuitsafety.org/images/4_killed_phill...</td>\n",
       "      <td>February 19, 2003</td>\n",
       "      <td>2347 S. Michigan Ave.</td>\n",
       "      <td>Chicago</td>\n",
       "      <td>CA</td>\n",
       "      <td>60616</td>\n",
       "      <td>Los Angeles</td>\n",
       "      <td>Chicago Police Department</td>\n",
       "      <td>Gunshot</td>\n",
       "      <td>On February 19, 2003, 21 people were killed an...</td>\n",
       "      <td>Unreported</td>\n",
       "      <td>http://www.usatoday.com/pages/interactives/bla...</td>\n",
       "      <td>No</td>\n",
       "      <td>CRDeCeros</td>\n",
       "      <td>Complete</td>\n",
       "      <td>2/19/2003: On February 19, 2003, 21 people wer...</td>\n",
       "    </tr>\n",
       "    <tr>\n",
       "      <th>freq</th>\n",
       "      <td>593</td>\n",
       "      <td>730</td>\n",
       "      <td>18827</td>\n",
       "      <td>8061</td>\n",
       "      <td>3</td>\n",
       "      <td>23</td>\n",
       "      <td>21</td>\n",
       "      <td>401</td>\n",
       "      <td>3868</td>\n",
       "      <td>31</td>\n",
       "      <td>1045</td>\n",
       "      <td>373</td>\n",
       "      <td>14809</td>\n",
       "      <td>21</td>\n",
       "      <td>9091</td>\n",
       "      <td>132</td>\n",
       "      <td>12795</td>\n",
       "      <td>3604</td>\n",
       "      <td>19505</td>\n",
       "      <td>21</td>\n",
       "    </tr>\n",
       "  </tbody>\n",
       "</table>\n",
       "</div>"
      ],
      "text/plain": [
       "                 Subject's name Subject's age Subject's gender  \\\n",
       "count                     20792         20207            20757   \n",
       "unique                    20041           122                3   \n",
       "top     Name withheld by police            22             Male   \n",
       "freq                        593           730            18827   \n",
       "\n",
       "          Subject's race                           URL of image of deceased  \\\n",
       "count              20791                                               7084   \n",
       "unique                 8                                               7008   \n",
       "top     Race unspecified  http://pursuitsafety.org/images/4_killed_phill...   \n",
       "freq                8061                                                  3   \n",
       "\n",
       "       Date of injury resulting in death (month/day/year)  \\\n",
       "count                                               20792   \n",
       "unique                                               5974   \n",
       "top                                     February 19, 2003   \n",
       "freq                                                   23   \n",
       "\n",
       "       Location of injury (address) Location of death (city)  \\\n",
       "count                         20315                    20755   \n",
       "unique                        19121                     4891   \n",
       "top           2347 S. Michigan Ave.                  Chicago   \n",
       "freq                             21                      401   \n",
       "\n",
       "       Location of death (state) Location of death (zip code)  \\\n",
       "count                      20791                        20612   \n",
       "unique                        51                         8590   \n",
       "top                           CA                        60616   \n",
       "freq                        3868                           31   \n",
       "\n",
       "       Location of death (county) Agency responsible for death Cause of death  \\\n",
       "count                       20778                        20745          20791   \n",
       "unique                       1363                         5829             15   \n",
       "top                   Los Angeles    Chicago Police Department        Gunshot   \n",
       "freq                         1045                          373          14809   \n",
       "\n",
       "       A brief description of the circumstances surrounding the death  \\\n",
       "count                                               20791               \n",
       "unique                                              19830               \n",
       "top     On February 19, 2003, 21 people were killed an...               \n",
       "freq                                                   21               \n",
       "\n",
       "       Official disposition of death (justified or other)  \\\n",
       "count                                               20765   \n",
       "unique                                                 54   \n",
       "top                                            Unreported   \n",
       "freq                                                 9091   \n",
       "\n",
       "       Link to news article or photo of official document  \\\n",
       "count                                               20790   \n",
       "unique                                              19293   \n",
       "top     http://www.usatoday.com/pages/interactives/bla...   \n",
       "freq                                                  132   \n",
       "\n",
       "       Symptoms of mental illness? Unique identifier/submitted by  \\\n",
       "count                        20732                          15081   \n",
       "unique                           4                            827   \n",
       "top                             No                      CRDeCeros   \n",
       "freq                         12795                           3604   \n",
       "\n",
       "       State Data Status Prior to Jan. 1, 2013. All states complete after Jan. 1, 2013  \\\n",
       "count                                               20792                                \n",
       "unique                                                  3                                \n",
       "top                                              Complete                                \n",
       "freq                                                19505                                \n",
       "\n",
       "                                         Date&Description  \n",
       "count                                               20757  \n",
       "unique                                              19868  \n",
       "top     2/19/2003: On February 19, 2003, 21 people wer...  \n",
       "freq                                                   21  "
      ]
     },
     "execution_count": 15,
     "metadata": {},
     "output_type": "execute_result"
    }
   ],
   "source": [
    "fenc.describe ( include = ['O'])"
   ]
  },
  {
   "cell_type": "code",
   "execution_count": 21,
   "metadata": {
    "collapsed": false
   },
   "outputs": [
    {
     "data": {
      "text/plain": [
       "datetime.datetime(2003, 2, 9, 0, 0)"
      ]
     },
     "execution_count": 21,
     "metadata": {},
     "output_type": "execute_result"
    }
   ],
   "source": [
    "dt.datetime.strptime('February 09, 2003','%B %d, %Y')"
   ]
  },
  {
   "cell_type": "code",
   "execution_count": 23,
   "metadata": {
    "collapsed": false
   },
   "outputs": [
    {
     "ename": "TypeError",
     "evalue": "descriptor 'strftime' requires a 'datetime.date' object but received a 'Series'",
     "output_type": "error",
     "traceback": [
      "\u001b[0;31m---------------------------------------------------------------------------\u001b[0m",
      "\u001b[0;31mTypeError\u001b[0m                                 Traceback (most recent call last)",
      "\u001b[0;32m<ipython-input-23-8eb751d724ee>\u001b[0m in \u001b[0;36m<module>\u001b[0;34m()\u001b[0m\n\u001b[0;32m----> 1\u001b[0;31m \u001b[0mfenc\u001b[0m\u001b[1;33m[\u001b[0m\u001b[1;34m'newdate'\u001b[0m\u001b[1;33m]\u001b[0m \u001b[1;33m=\u001b[0m \u001b[0mdt\u001b[0m\u001b[1;33m.\u001b[0m\u001b[0mdatetime\u001b[0m\u001b[1;33m.\u001b[0m\u001b[0mstrftime\u001b[0m\u001b[1;33m(\u001b[0m\u001b[0mfenc\u001b[0m\u001b[1;33m[\u001b[0m\u001b[1;34m'Date of injury resulting in death (month/day/year)'\u001b[0m\u001b[1;33m]\u001b[0m\u001b[1;33m,\u001b[0m\u001b[1;34m'%B %d, %Y'\u001b[0m\u001b[1;33m)\u001b[0m\u001b[1;33m\u001b[0m\u001b[0m\n\u001b[0m",
      "\u001b[0;31mTypeError\u001b[0m: descriptor 'strftime' requires a 'datetime.date' object but received a 'Series'"
     ]
    }
   ],
   "source": [
    "for \n",
    "fenc['date'] = dt.datetime.strftime(fenc['Date of injury resulting in death (month/day/year)'],'%B %d, %Y')"
   ]
  },
  {
   "cell_type": "code",
   "execution_count": null,
   "metadata": {
    "collapsed": true
   },
   "outputs": [],
   "source": []
  }
 ],
 "metadata": {
  "kernelspec": {
   "display_name": "Python 3",
   "language": "python",
   "name": "python3"
  },
  "language_info": {
   "codemirror_mode": {
    "name": "ipython",
    "version": 3
   },
   "file_extension": ".py",
   "mimetype": "text/x-python",
   "name": "python",
   "nbconvert_exporter": "python",
   "pygments_lexer": "ipython3",
   "version": "3.6.0"
  }
 },
 "nbformat": 4,
 "nbformat_minor": 2
}
