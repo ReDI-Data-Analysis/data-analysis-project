{
 "cells": [
  {
   "cell_type": "markdown",
   "metadata": {
    "deletable": true,
    "editable": true
   },
   "source": [
    "Wednesday\n",
    "\n",
    "1. Ploting incidents coordinates in a map (Leaflet / Plotly)\n",
    "2. Ploting incidents by state or city in a map (CartoDB)\n",
    "\n",
    "\n",
    "3. Is there a bias by race in the killings? (Census.gov)\n",
    "4. Downloading data from census.gov (Lena)\n",
    "5. Police killings / States city information : SQL creation\n",
    "6. Clean data\n",
    "7. Visualization\n",
    "8. Create an App using ipython widgets "
   ]
  },
  {
   "cell_type": "code",
   "execution_count": null,
   "metadata": {
    "collapsed": true,
    "deletable": true,
    "editable": true
   },
   "outputs": [],
   "source": []
  }
 ],
 "metadata": {
  "kernelspec": {
   "display_name": "Python 3",
   "language": "python",
   "name": "python3"
  },
  "language_info": {
   "codemirror_mode": {
    "name": "ipython",
    "version": 3
   },
   "file_extension": ".py",
   "mimetype": "text/x-python",
   "name": "python",
   "nbconvert_exporter": "python",
   "pygments_lexer": "ipython3",
   "version": "3.5.2"
  }
 },
 "nbformat": 4,
 "nbformat_minor": 2
}
