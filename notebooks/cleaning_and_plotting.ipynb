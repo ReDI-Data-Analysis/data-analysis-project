{
 "cells": [
  {
   "cell_type": "code",
   "execution_count": 3,
   "metadata": {
    "collapsed": true
   },
   "outputs": [],
   "source": [
    "import pandas as pd"
   ]
  },
  {
   "cell_type": "code",
   "execution_count": 4,
   "metadata": {
    "collapsed": true
   },
   "outputs": [],
   "source": [
    "df = pd.read_csv('/Users/Seb/development/redi/data-analysis-project/data/fatalencounters.csv')"
   ]
  },
  {
   "cell_type": "code",
   "execution_count": 5,
   "metadata": {
    "collapsed": true
   },
   "outputs": [],
   "source": [
    "smaller_df = df.drop([\n",
    "    'Timestamp', 'URL of image of deceased',\n",
    "    '20791', 'Date&Description',\n",
    "    'State Data Status Prior to Jan. 1, 2013. All states complete after Jan. 1, 2013',\n",
    "    'Link to news article or photo of official document',\n",
    "    'Official disposition of death (justified or other)',\n",
    "    'A brief description of the circumstances surrounding the death',\n",
    "    'Unique identifier/submitted by'], axis=1)"
   ]
  },
  {
   "cell_type": "markdown",
   "metadata": {},
   "source": [
    "## Trying to plot locations"
   ]
  },
  {
   "cell_type": "code",
   "execution_count": 6,
   "metadata": {},
   "outputs": [],
   "source": [
    "location_cols = [\n",
    "    'Location of injury (address)',\n",
    "    'Location of death (city)', 'Location of death (state)',\n",
    "    'Location of death (zip code)','Location of death (county)'\n",
    "]"
   ]
  },
  {
   "cell_type": "code",
   "execution_count": 7,
   "metadata": {},
   "outputs": [],
   "source": [
    "clean_locations_df = smaller_df.dropna(axis=0, subset=location_cols)"
   ]
  },
  {
   "cell_type": "code",
   "execution_count": 8,
   "metadata": {},
   "outputs": [],
   "source": [
    "test_row = clean_locations_df.iloc[0].copy()"
   ]
  },
  {
   "cell_type": "code",
   "execution_count": 9,
   "metadata": {},
   "outputs": [],
   "source": [
    "location_keys = [column_name for column_name in test_row.index.tolist() if column_name.startswith('Location')]"
   ]
  },
  {
   "cell_type": "code",
   "execution_count": 10,
   "metadata": {
    "collapsed": true
   },
   "outputs": [],
   "source": [
    "location_colnames = [column_name for column_name in test_row.index.tolist()\n",
    "                     if column_name.startswith('Location')]\n",
    "\n",
    "def combine_location_details(row, location_keys=location_colnames):\n",
    "    return ', '.join(row[location_keys].values.tolist())\n",
    "    "
   ]
  },
  {
   "cell_type": "code",
   "execution_count": 88,
   "metadata": {},
   "outputs": [
    {
     "name": "stdout",
     "output_type": "stream",
     "text": [
      "CPU times: user 81.1 ms, sys: 2.58 ms, total: 83.7 ms\n",
      "Wall time: 88.3 ms\n"
     ]
    }
   ],
   "source": [
    "%%time\n",
    "addresses = []\n",
    "for row, values in clean_locations_df.head(100).iterrows():\n",
    "    try:\n",
    "        addresses.append(combine_location_details(values))\n",
    "    except TypeError as err:\n",
    "        print(err)\n",
    "        print(row)\n",
    "        print(values[location_colnames])"
   ]
  },
  {
   "cell_type": "code",
   "execution_count": 89,
   "metadata": {
    "collapsed": true
   },
   "outputs": [],
   "source": [
    "coords = [geocoder.google(address).latlng for address in addresses]"
   ]
  },
  {
   "cell_type": "code",
   "execution_count": 90,
   "metadata": {
    "collapsed": true
   },
   "outputs": [],
   "source": [
    "import folium\n",
    "import geocoder \n",
    "import numpy as np"
   ]
  },
  {
   "cell_type": "code",
   "execution_count": 92,
   "metadata": {},
   "outputs": [],
   "source": [
    "for coord in coords:\n",
    "    if len(coord) > 0:\n",
    "        y = coord[1]\n",
    "        x = coord[0]\n",
    "        folium.CircleMarker([x, y], color='black', fill_color='#2EFE2E', radius=5, fill_opacity=1).add_to(map_1)"
   ]
  },
  {
   "cell_type": "code",
   "execution_count": 94,
   "metadata": {},
   "outputs": [],
   "source": [
    "map_1.save('test.html')"
   ]
  },
  {
   "cell_type": "code",
   "execution_count": null,
   "metadata": {
    "collapsed": true
   },
   "outputs": [],
   "source": []
  }
 ],
 "metadata": {
  "kernelspec": {
   "display_name": "Python 3",
   "language": "python",
   "name": "python3"
  },
  "language_info": {
   "codemirror_mode": {
    "name": "ipython",
    "version": 3
   },
   "file_extension": ".py",
   "mimetype": "text/x-python",
   "name": "python",
   "nbconvert_exporter": "python",
   "pygments_lexer": "ipython3",
   "version": "3.6.1"
  }
 },
 "nbformat": 4,
 "nbformat_minor": 2
}
