@@ -48,7 +48,7 @@
   },
   {
    "cell_type": "code",
-   "execution_count": 4,
+   "execution_count": 2,
    "metadata": {
     "collapsed": false,
     "deletable": true,
@@ -64,7 +64,7 @@
   },
   {
    "cell_type": "code",
-   "execution_count": 6,
+   "execution_count": 3,
    "metadata": {
     "collapsed": false
    },
@@ -75,18 +75,36 @@
        "((2142, 14), (20792, 24))"
       ]
      },
-     "execution_count": 6,
+     "execution_count": 3,
      "metadata": {},
      "output_type": "execute_result"
     }
    ],
    "source": [
+    "# Comparing the 2 databases entries\n",
+    "\n",
     "wpost.shape, fenc.shape"
    ]
   },
   {
+   "cell_type": "markdown",
+   "metadata": {},
+   "source": [
+    "### Time frame of each database"
+   ]
+  },
+  {
+   "cell_type": "markdown",
+   "metadata": {
+    "collapsed": false
+   },
+   "source": [
+    "Let�s see, more or less, wich is the difference of entries between our 2 databases considering a similar time frame."
+   ]
+  },
+  {
    "cell_type": "code",
-   "execution_count": 7,
+   "execution_count": 5,
    "metadata": {
     "collapsed": false
    },
@@ -94,46 +112,138 @@
     {
      "data": {
       "text/plain": [
-       "Index(['id', 'name', 'date', 'manner_of_death', 'armed', 'age', 'gender',\n",
-       "       'race', 'city', 'state', 'signs_of_mental_illness', 'threat_level',\n",
-       "       'flee', 'body_camera'],\n",
-       "      dtype='object')"
+       "(2000, 2100)"
       ]
      },
-     "execution_count": 7,
+     "execution_count": 5,
      "metadata": {},
      "output_type": "execute_result"
     }
    ],
    "source": [
-    "wpost.columns"
+    "fenc['Date (Year)'].min(), fenc['Date (Year)'].max()"
    ]
   },
   {
    "cell_type": "code",
-   "execution_count": 11,
+   "execution_count": 6,
    "metadata": {
     "collapsed": false
    },
    "outputs": [
     {
      "data": {
+      "text/html": [
+       "<div>\n",
+       "<table border=\"1\" class=\"dataframe\">\n",
+       "  <thead>\n",
+       "    <tr style=\"text-align: right;\">\n",
+       "      <th></th>\n",
+       "      <th>Timestamp</th>\n",
+       "      <th>Subject's name</th>\n",
+       "      <th>Subject's age</th>\n",
+       "      <th>Subject's gender</th>\n",
+       "      <th>Subject's race</th>\n",
+       "      <th>URL of image of deceased</th>\n",
+       "      <th>Date of injury resulting in death (month/day/year)</th>\n",
+       "      <th>Location of injury (address)</th>\n",
+       "      <th>Location of death (city)</th>\n",
+       "      <th>Location of death (state)</th>\n",
+       "      <th>...</th>\n",
+       "      <th>A brief description of the circumstances surrounding the death</th>\n",
+       "      <th>Official disposition of death (justified or other)</th>\n",
+       "      <th>Link to news article or photo of official document</th>\n",
+       "      <th>Symptoms of mental illness?</th>\n",
+       "      <th>Unique identifier/submitted by</th>\n",
+       "      <th>State Data Status Prior to Jan. 1, 2013. All states complete after Jan. 1, 2013</th>\n",
+       "      <th>Date&amp;Description</th>\n",
+       "      <th>20791</th>\n",
+       "      <th>Unique identifier</th>\n",
+       "      <th>Date (Year)</th>\n",
+       "    </tr>\n",
+       "  </thead>\n",
+       "  <tbody>\n",
+       "    <tr>\n",
+       "      <th>20791</th>\n",
+       "      <td>NaN</td>\n",
+       "      <td>Items below this row have not been fact-checked.</td>\n",
+       "      <td>NaN</td>\n",
+       "      <td>NaN</td>\n",
+       "      <td>NaN</td>\n",
+       "      <td>NaN</td>\n",
+       "      <td>December 31, 2100</td>\n",
+       "      <td>Items below this line have not been fact-checked.</td>\n",
+       "      <td>NaN</td>\n",
+       "      <td>NaN</td>\n",
+       "      <td>...</td>\n",
+       "      <td>NaN</td>\n",
+       "      <td>NaN</td>\n",
+       "      <td>http://www.fatalencounters.org</td>\n",
+       "      <td>NaN</td>\n",
+       "      <td>Bill jones</td>\n",
+       "      <td>X</td>\n",
+       "      <td>12/31/2100:  http://www.fatalencounters.org</td>\n",
+       "      <td>20791.0</td>\n",
+       "      <td>NaN</td>\n",
+       "      <td>2100</td>\n",
+       "    </tr>\n",
+       "  </tbody>\n",
+       "</table>\n",
+       "<p>1 rows � 24 columns</p>\n",
+       "</div>"
+      ],
       "text/plain": [
-       "(2000, 2100)"
+       "       Timestamp                                    Subject's name  \\\n",
+       "20791        NaN  Items below this row have not been fact-checked.   \n",
+       "\n",
+       "      Subject's age Subject's gender Subject's race URL of image of deceased  \\\n",
+       "20791           NaN              NaN            NaN                      NaN   \n",
+       "\n",
+       "      Date of injury resulting in death (month/day/year)  \\\n",
+       "20791                                  December 31, 2100   \n",
+       "\n",
+       "                            Location of injury (address)  \\\n",
+       "20791  Items below this line have not been fact-checked.   \n",
+       "\n",
+       "      Location of death (city) Location of death (state)     ...      \\\n",
+       "20791                      NaN                       NaN     ...       \n",
+       "\n",
+       "      A brief description of the circumstances surrounding the death  \\\n",
+       "20791                                                NaN               \n",
+       "\n",
+       "      Official disposition of death (justified or other)  \\\n",
+       "20791                                                NaN   \n",
+       "\n",
+       "      Link to news article or photo of official document  \\\n",
+       "20791                     http://www.fatalencounters.org   \n",
+       "\n",
+       "      Symptoms of mental illness? Unique identifier/submitted by  \\\n",
+       "20791                         NaN                     Bill jones   \n",
+       "\n",
+       "      State Data Status Prior to Jan. 1, 2013. All states complete after Jan. 1, 2013  \\\n",
+       "20791                                                  X                                \n",
+       "\n",
+       "                                  Date&Description    20791 Unique identifier  \\\n",
+       "20791  12/31/2100:  http://www.fatalencounters.org  20791.0               NaN   \n",
+       "\n",
+       "      Date (Year)  \n",
+       "20791        2100  \n",
+       "\n",
+       "[1 rows x 24 columns]"
       ]
      },
-     "execution_count": 11,
+     "execution_count": 6,
      "metadata": {},
      "output_type": "execute_result"
     }
    ],
    "source": [
-    "fenc['Date (Year)'].min(), fenc['Date (Year)'].max()"
+    "fenc[fenc['Date (Year)'] > 2017]"
    ]
   },
   {
    "cell_type": "code",
-   "execution_count": 15,
+   "execution_count": 7,
    "metadata": {
     "collapsed": false
    },
@@ -144,7 +254,7 @@
   },
   {
    "cell_type": "code",
-   "execution_count": 17,
+   "execution_count": 8,
    "metadata": {
     "collapsed": false,
     "deletable": true,
@@ -157,7 +267,7 @@
        "(2000, 2017)"
       ]
      },
-     "execution_count": 17,
+     "execution_count": 8,
      "metadata": {},
      "output_type": "execute_result"
     }
@@ -167,8 +277,15 @@
    ]
   },
   {
+   "cell_type": "markdown",
+   "metadata": {},
+   "source": [
+    "So our fatal encounters database goes from 2000 to 2017. We have solved the error of the 2100 entry dropping it."
+   ]
+  },
+  {
    "cell_type": "code",
-   "execution_count": 20,
+   "execution_count": 9,
    "metadata": {
     "collapsed": false
    },
@@ -179,7 +296,7 @@
        "('2015-01-02', '2017-02-28')"
       ]
      },
-     "execution_count": 20,
+     "execution_count": 9,
      "metadata": {},
      "output_type": "execute_result"
     }
@@ -190,7 +307,7 @@
   },
   {
    "cell_type": "code",
-   "execution_count": 27,
+   "execution_count": 10,
    "metadata": {
     "collapsed": false
    },
@@ -198,10 +315,10 @@
     {
      "data": {
       "text/plain": [
-       "(3919, 25)"
+       "(3919, 24)"
       ]
      },
-     "execution_count": 27,
+     "execution_count": 10,
      "metadata": {},
      "output_type": "execute_result"
     }
@@ -211,6 +328,81 @@
    ]
   },
   {
+   "cell_type": "markdown",
+   "metadata": {},
+   "source": [
+    "We can see here that approximately, the fatal encounters db is doble the size of the washington post one. Let#s try to be more accurate.\n",
+    "\n",
+    "Since our column about the date of the killing in the fenc database is a string, and not a date, we cannot use it. We have to transform the data. In order to do that e are going to use the datetime library. We are going to use it to give format of a date to this column. We are going to create a new column where we are going to have this date data in a proper way"
+   ]
+  },
+  {
+   "cell_type": "code",
+   "execution_count": 29,
+   "metadata": {
+    "collapsed": false
+   },
+   "outputs": [],
+   "source": [
+    "# We iterate through every row, using iterrows\n",
+    "\n",
+    "for i, row in fenc.iterrows():\n",
+    "    \n",
+    "    # we define n, as our string to be transformed for every entry\n",
+    "    n=0\n",
+    "    n = row['Date of injury resulting in death (month/day/year)']\n",
+    "    \n",
+    "    # and here we define our new column, date, that is going to be n transformed into date. For doing that, we have to\n",
+    "    # describe which is the original format. In our case the date is written on a string like 'January 23, 2005'.\n",
+    "    # If we go to the documentation of the datetime library, we see that %B stands for the complete name of the month,\n",
+    "    # %d stands for the day number, then a coma, and the the year in 4 digits format\n",
+    "    fenc['date'].iloc[i] = dt.datetime.strptime(n,'%B %d, %Y')"
+   ]
+  },
+  {
+   "cell_type": "markdown",
+   "metadata": {},
+   "source": [
+    "Now we can compare exactly the two timeframes"
+   ]
+  },
+  {
+   "cell_type": "code",
+   "execution_count": 30,
+   "metadata": {
+    "collapsed": false
+   },
+   "outputs": [
+    {
+     "data": {
+      "text/plain": [
+       "(3420, 25)"
+      ]
+     },
+     "execution_count": 30,
+     "metadata": {},
+     "output_type": "execute_result"
+    }
+   ],
+   "source": [
+    "fenc[(fenc['date'] >= '2015-01-02') & (fenc['date'] <= '2017-02-28')].shape"
+   ]
+  },
+  {
+   "cell_type": "markdown",
+   "metadata": {},
+   "source": [
+    "So in the end, for the same time frame the washington post dataframe is 2142 entries, the fatal encounters one is 3420. Can we try to merge them? Since the second one is 1300 entries bigger, we can asume that every name in the wpost is indeed in the fatal encounters one...but we can have typos, names that don�t match, missing names...let�s investigate."
+   ]
+  },
+  {
+   "cell_type": "markdown",
+   "metadata": {},
+   "source": [
+    "## Merging the csv's"
+   ]
+  },
+  {
    "cell_type": "code",
    "execution_count": 106,
    "metadata": {
@@ -4544,7 +4736,7 @@
    "name": "python",
    "nbconvert_exporter": "python",
    "pygments_lexer": "ipython3",
-   "version": "3.5.2"
+   "version": "3.6.0"
   }
  },
  "nbformat": 4,